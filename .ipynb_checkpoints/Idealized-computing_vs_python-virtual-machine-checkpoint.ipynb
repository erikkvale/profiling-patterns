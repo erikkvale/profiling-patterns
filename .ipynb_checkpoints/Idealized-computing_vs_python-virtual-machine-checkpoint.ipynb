{
 "cells": [
  {
   "cell_type": "code",
   "execution_count": 1,
   "metadata": {},
   "outputs": [],
   "source": [
    "import math"
   ]
  },
  {
   "cell_type": "code",
   "execution_count": 3,
   "metadata": {},
   "outputs": [],
   "source": [
    "def check_prime(number):\n",
    "    \"\"\"Non-vectorized\"\"\"\n",
    "    sqrt_number = math.sqrt(number)\n",
    "    number_float = float(number)\n",
    "    for i in range(2, int(sqrt_number)+1):\n",
    "        if (number_float / i).is_integer():\n",
    "            return False\n",
    "    return True"
   ]
  },
  {
   "cell_type": "code",
   "execution_count": null,
   "metadata": {},
   "outputs": [],
   "source": [
    "def check_prime(number):\n",
    "    sqrt_number = math.sqrt(number)\n",
    "    number_float = float(number)\n",
    "    numbers = range(2, int(sqrt_number)+1)\n",
    "    for i in range(0, len(numbers), 5):\n",
    "        if (number_float / i).is_integer():\n",
    "            return False\n",
    "    return true"
   ]
  }
 ],
 "metadata": {
  "kernelspec": {
   "display_name": "Python 3",
   "language": "python",
   "name": "python3"
  },
  "language_info": {
   "codemirror_mode": {
    "name": "ipython",
    "version": 3
   },
   "file_extension": ".py",
   "mimetype": "text/x-python",
   "name": "python",
   "nbconvert_exporter": "python",
   "pygments_lexer": "ipython3",
   "version": "3.6.5"
  }
 },
 "nbformat": 4,
 "nbformat_minor": 2
}
